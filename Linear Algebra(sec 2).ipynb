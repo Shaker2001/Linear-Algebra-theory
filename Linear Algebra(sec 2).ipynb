{
 "cells": [
  {
   "cell_type": "code",
   "execution_count": 1,
   "id": "8e8cb420",
   "metadata": {},
   "outputs": [],
   "source": [
    "import numpy as np\n",
    "import matplotlib as pb\n",
    "import matplotlib.pyplot as plt"
   ]
  },
  {
   "cell_type": "code",
   "execution_count": 2,
   "id": "bdff660c",
   "metadata": {},
   "outputs": [],
   "source": [
    "# create a scalers (numberic variables)"
   ]
  },
  {
   "cell_type": "code",
   "execution_count": 7,
   "id": "f880ec5b",
   "metadata": {},
   "outputs": [
    {
     "data": {
      "image/png": "[encoded data removed]",
      "text/plain": [
       "<Figure size 432x288 with 1 Axes>"
      ]
     },
     "metadata": {
      "needs_background": "light"
     },
     "output_type": "display_data"
    }
   ],
   "source": [
    "ascaler=4\n",
    "# makeing vector\n",
    "v=np.array([2,-1])\n",
    "\n",
    "#plot it\n",
    "\n",
    "plt.plot([0,v[0]],[0,v[1]])\n",
    "plt.axis(\"square\")\n",
    "plt.axis([-3,3,-3,3])\n",
    "plt.grid(\"on\")\n",
    "plt.show()"
   ]
  },
  {
   "cell_type": "code",
   "execution_count": 8,
   "id": "8f7d5541",
   "metadata": {},
   "outputs": [],
   "source": [
    "# section 2.2  code block 2.5\n",
    "#list\n",
    "v1=[2,5,4,7]\n",
    "#array no orientation\n",
    "v2=np.array([2,5,4,7])\n",
    "\n",
    "#col. vector\n",
    "v3= np.array([ [2] , [5] , [4] , [7] ])\n",
    "\n",
    "#row vector\n",
    "v4 = np.array( [[2,5,4,7]] )\n"
   ]
  },
  {
   "cell_type": "code",
   "execution_count": 9,
   "id": "40b67e2e",
   "metadata": {},
   "outputs": [],
   "source": [
    "#section 2.3 code block 2.9\n",
    "\n",
    "#two vector \n",
    "v1 = np.array([2,5,4,7])\n",
    "v2 = np.array([4,1,0,2])\n",
    "\n",
    "#scaler.mulitply , add\n",
    "v3= 4 * v1 - 2 * v2"
   ]
  },
  {
   "cell_type": "code",
   "execution_count": null,
   "id": "a71a30ca",
   "metadata": {},
   "outputs": [],
   "source": []
  },
  {
   "cell_type": "code",
   "execution_count": null,
   "id": "ab4fea68",
   "metadata": {},
   "outputs": [],
   "source": []
  }
 ],
 "metadata": {
  "kernelspec": {
   "display_name": "Python 3 (ipykernel)",
   "language": "python",
   "name": "python3"
  },
  "language_info": {
   "codemirror_mode": {
    "name": "ipython",
    "version": 3
   },
   "file_extension": ".py",
   "mimetype": "text/x-python",
   "name": "python",
   "nbconvert_exporter": "python",
   "pygments_lexer": "ipython3",
   "version": "3.9.7"
  }
 },
 "nbformat": 4,
 "nbformat_minor": 5
}
