{
 "cells": [
  {
   "cell_type": "code",
   "execution_count": 34,
   "id": "df855a5c",
   "metadata": {},
   "outputs": [],
   "source": [
    "import numpy as np\n",
    "import matplotlib as pb\n",
    "import matplotlib.pyplot as plt"
   ]
  },
  {
   "cell_type": "code",
   "execution_count": 35,
   "id": "95c5d639",
   "metadata": {},
   "outputs": [],
   "source": [
    "# create a scalers (numberic variables)"
   ]
  },
  {
   "cell_type": "code",
   "execution_count": 36,
   "id": "6638a64c",
   "metadata": {},
   "outputs": [
    {
     "data": {
      "image/png": "[encoded data removed]",
      "text/plain": [
       "<Figure size 432x288 with 1 Axes>"
      ]
     },
     "metadata": {
      "needs_background": "light"
     },
     "output_type": "display_data"
    }
   ],
   "source": [
    "ascaler=4\n",
    "# makeing vector\n",
    "v=np.array([2,-1])\n",
    "\n",
    "#plot it\n",
    "\n",
    "plt.plot([0,v[0]],[0,v[1]])\n",
    "plt.axis(\"square\")\n",
    "plt.axis([-3,3,-3,3])\n",
    "plt.grid(\"on\")\n",
    "plt.show()"
   ]
  },
  {
   "cell_type": "code",
   "execution_count": 37,
   "id": "71266e41",
   "metadata": {},
   "outputs": [],
   "source": [
    "# section 2.2  code block 2.5\n",
    "#list\n",
    "v1=[2,5,4,7]\n",
    "#array no orientation\n",
    "v2=np.array([2,5,4,7])\n",
    "\n",
    "#col. vector\n",
    "v3= np.array([ [2] , [5] , [4] , [7] ])\n",
    "\n",
    "#row vector\n",
    "v4 = np.array( [[2,5,4,7]] )\n"
   ]
  },
  {
   "cell_type": "code",
   "execution_count": 38,
   "id": "437fd4f4",
   "metadata": {},
   "outputs": [],
   "source": [
    "#section 2.3 code block 2.9\n",
    "\n",
    "#two vector \n",
    "v1 = np.array([2,5,4,7])\n",
    "v2 = np.array([4,1,0,2])\n",
    "\n",
    "#scaler.mulitply , add\n",
    "v3= 4 * v1 - 2 * v2"
   ]
  },
  {
   "cell_type": "code",
   "execution_count": 39,
   "id": "e563b123",
   "metadata": {},
   "outputs": [
    {
     "data": {
      "image/png": "[encoded data removed]",
      "text/plain": [
       "<Figure size 432x288 with 1 Axes>"
      ]
     },
     "metadata": {
      "needs_background": "light"
     },
     "output_type": "display_data"
    }
   ],
   "source": [
    "# section 3.2 code block 2.11\n",
    "#vector \n",
    "v= np.array([3,4])\n",
    "\n",
    "#plot it \n",
    "plt.plot([0,v[0]],[0,v[1]])\n",
    "\n",
    "# and then plot scaled versions on top\n",
    "for i in range(10):\n",
    "    s=np.random.randn()\n",
    "    sv= s * v\n",
    "    plt.plot([0,sv[0]],[0,sv[1]])\n",
    "    \n",
    "plt.grid(\"on\")\n",
    "plt.axis(\"square\")\n",
    "plt.axis([-5,5,-5,5])\n",
    "plt.grid(\"on\")\n",
    "plt.show()\n"
   ]
  },
  {
   "cell_type": "code",
   "execution_count": 40,
   "id": "09774f1e",
   "metadata": {},
   "outputs": [
    {
     "name": "stdout",
     "output_type": "stream",
     "text": [
      "[[2 5 4 7]]\n",
      "[[2]\n",
      " [5]\n",
      " [4]\n",
      " [7]]\n"
     ]
    }
   ],
   "source": [
    "# section 3.9 \n",
    "v1 = np.array([[2,5,4,7]])\n",
    "v2= v1.T\n",
    "print(v1)\n",
    "print(v2)"
   ]
  },
  {
   "cell_type": "code",
   "execution_count": 41,
   "id": "428ba747",
   "metadata": {},
   "outputs": [],
   "source": [
    "# exercise chapter 2 \n",
    "#Create a 2D vector v, 10 scalars that are drawn at random\n",
    "#from a normal (Gaussian) distribution, and plot all 10 scalar\u0002vector multiplications on top of each other. What do you\n",
    "#notice\n"
   ]
  },
  {
   "cell_type": "code",
   "execution_count": 43,
   "id": "85fcd8ce",
   "metadata": {},
   "outputs": [
    {
     "data": {
      "image/png": "[encoded data removed]",
      "text/plain": [
       "<Figure size 432x288 with 1 Axes>"
      ]
     },
     "metadata": {
      "needs_background": "light"
     },
     "output_type": "display_data"
    }
   ],
   "source": [
    "#import numpy as np\n",
    "v= np.array([1,2])\n",
    "\n",
    "#plot it \n",
    "plt.plot([0,v[0]],[0,v[1]])\n",
    "\n",
    "# and then plot scaled versions on top\n",
    "for i in range(10):\n",
    "    s=np.random.randn()\n",
    "    sv= s * v\n",
    "    plt.plot([0,sv[0]],[0,sv[1]])\n",
    "    \n",
    "plt.grid(\"on\")\n",
    "plt.axis(\"square\")\n",
    "plt.axis([-4,4,-4,4])\n",
    "plt.grid(\"on\")\n",
    "plt.show()"
   ]
  },
  {
   "cell_type": "code",
   "execution_count": null,
   "id": "c741d5a3",
   "metadata": {},
   "outputs": [],
   "source": []
  },
  {
   "cell_type": "code",
   "execution_count": null,
   "id": "698ebfb0",
   "metadata": {},
   "outputs": [],
   "source": []
  }
 ],
 "metadata": {
  "kernelspec": {
   "display_name": "Python 3 (ipykernel)",
   "language": "python",
   "name": "python3"
  },
  "language_info": {
   "codemirror_mode": {
    "name": "ipython",
    "version": 3
   },
   "file_extension": ".py",
   "mimetype": "text/x-python",
   "name": "python",
   "nbconvert_exporter": "python",
   "pygments_lexer": "ipython3",
   "version": "3.9.7"
  }
 },
 "nbformat": 4,
 "nbformat_minor": 5
}
