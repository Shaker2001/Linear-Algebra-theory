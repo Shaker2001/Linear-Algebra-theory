{
 "cells": [
  {
   "cell_type": "code",
   "execution_count": 11,
   "id": "3be7eaac",
   "metadata": {},
   "outputs": [],
   "source": [
    "import numpy as np\n",
    "import matplotlib as pb\n",
    "import matplotlib.pyplot as plt"
   ]
  },
  {
   "cell_type": "code",
   "execution_count": 17,
   "id": "ffb45c98",
   "metadata": {},
   "outputs": [],
   "source": [
    "# section 4.2        code 3,3\n",
    "#Linear weighted combination"
   ]
  },
  {
   "cell_type": "code",
   "execution_count": 18,
   "id": "1b5c2ee2",
   "metadata": {},
   "outputs": [
    {
     "data": {
      "text/plain": [
       "array([ -7,  -4, -13])"
      ]
     },
     "execution_count": 18,
     "metadata": {},
     "output_type": "execute_result"
    }
   ],
   "source": [
    "l1 = 1\n",
    "l2 = 2\n",
    "l3 = -3\n",
    "v1 =np.array([4,5,1])\n",
    "v2 =np.array([-4,0,-4]) \n",
    "v3 =np.array([1,3,2])\n",
    "l1 * v1 + l2*v2+ l3*v3\n",
    "\n"
   ]
  },
  {
   "cell_type": "code",
   "execution_count": 19,
   "id": "1f5305e7",
   "metadata": {},
   "outputs": [],
   "source": [
    "# the outer product\n",
    "# indicates that the dot product (vTw) is a 1×1 array\n",
    "#(just a single number; a scalar) whereas the outer product (vwT)\n",
    "#is a matrix whose sizes are defined by the number of elements "
   ]
  },
  {
   "cell_type": "code",
   "execution_count": 20,
   "id": "b10a0cc0",
   "metadata": {},
   "outputs": [
    {
     "name": "stdout",
     "output_type": "stream",
     "text": [
      "[[ 8  2  0  4]\n",
      " [20  5  0 10]\n",
      " [16  4  0  8]\n",
      " [28  7  0 14]]\n"
     ]
    }
   ],
   "source": [
    "v1=np.array([2,5,4,7])\n",
    "v2=np.array([4,1,0,2])\n",
    "op=np.outer(v1,v2)\n",
    "print(op)"
   ]
  },
  {
   "cell_type": "code",
   "execution_count": null,
   "id": "e63d23b3",
   "metadata": {},
   "outputs": [],
   "source": []
  },
  {
   "cell_type": "code",
   "execution_count": null,
   "id": "9aa30048",
   "metadata": {},
   "outputs": [],
   "source": []
  }
 ],
 "metadata": {
  "kernelspec": {
   "display_name": "Python 3 (ipykernel)",
   "language": "python",
   "name": "python3"
  },
  "language_info": {
   "codemirror_mode": {
    "name": "ipython",
    "version": 3
   },
   "file_extension": ".py",
   "mimetype": "text/x-python",
   "name": "python",
   "nbconvert_exporter": "python",
   "pygments_lexer": "ipython3",
   "version": "3.9.7"
  }
 },
 "nbformat": 4,
 "nbformat_minor": 5
}
