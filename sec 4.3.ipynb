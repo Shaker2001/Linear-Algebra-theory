{
 "cells": [
  {
   "cell_type": "code",
   "execution_count": 11,
   "id": "8f8df8ec",
   "metadata": {},
   "outputs": [],
   "source": [
    "import numpy as np\n",
    "import matplotlib as pb\n",
    "import matplotlib.pyplot as plt"
   ]
  },
  {
   "cell_type": "code",
   "execution_count": 17,
   "id": "23d38dda",
   "metadata": {},
   "outputs": [],
   "source": [
    "# section 4.3       \n",
    "# Vector product "
   ]
  },
  {
   "cell_type": "code",
   "execution_count": 22,
   "id": "b93dd5ea",
   "metadata": {},
   "outputs": [
    {
     "name": "stdout",
     "output_type": "stream",
     "text": [
      "[ 8  5  0 14]\n"
     ]
    }
   ],
   "source": [
    "v1 = np.array([2,5,4,7])\n",
    "v2 = np.array([4,1,0,2])\n",
    "v3 = v1 * v2\n",
    "print(v3)"
   ]
  },
  {
   "cell_type": "code",
   "execution_count": 24,
   "id": "11481545",
   "metadata": {},
   "outputs": [],
   "source": [
    "# Cross product \n",
    " #for computing the norm of a vector"
   ]
  },
  {
   "cell_type": "code",
   "execution_count": 25,
   "id": "ad030289",
   "metadata": {},
   "outputs": [
    {
     "name": "stdout",
     "output_type": "stream",
     "text": [
      "[0.20628425 0.51571062 0.4125685  0.72199487]\n"
     ]
    }
   ],
   "source": [
    "v = np.array([2,5,4,7])\n",
    "cross_p= np.linalg.norm(v)\n",
    "v_norm= v/ cross_p\n",
    "print(v_norm)"
   ]
  },
  {
   "cell_type": "code",
   "execution_count": null,
   "id": "5000ea7b",
   "metadata": {},
   "outputs": [],
   "source": []
  }
 ],
 "metadata": {
  "kernelspec": {
   "display_name": "Python 3 (ipykernel)",
   "language": "python",
   "name": "python3"
  },
  "language_info": {
   "codemirror_mode": {
    "name": "ipython",
    "version": 3
   },
   "file_extension": ".py",
   "mimetype": "text/x-python",
   "name": "python",
   "nbconvert_exporter": "python",
   "pygments_lexer": "ipython3",
   "version": "3.9.7"
  }
 },
 "nbformat": 4,
 "nbformat_minor": 5
}
