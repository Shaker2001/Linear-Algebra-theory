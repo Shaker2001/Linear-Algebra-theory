{
 "cells": [
  {
   "cell_type": "code",
   "execution_count": 11,
   "id": "90399189",
   "metadata": {},
   "outputs": [],
   "source": [
    "import numpy as np\n",
    "import matplotlib as pb\n",
    "import matplotlib.pyplot as plt"
   ]
  },
  {
   "cell_type": "code",
   "execution_count": 26,
   "id": "c7af6f7f",
   "metadata": {},
   "outputs": [],
   "source": [
    "# section 5        ch 3 task      \n"
   ]
  },
  {
   "cell_type": "code",
   "execution_count": 27,
   "id": "16d8f120",
   "metadata": {},
   "outputs": [],
   "source": [
    "# 1. Create a linear weighted combination of three vectors. You’ll\n",
    "# learn in later chapters that linear combinations are most effi\u0002ciently represented as matrix-vector multiplication, but we’ll\n",
    "# keep things simple for now. Create three 5-D vectors and a\n",
    "# fourth vector that contains the weights for each vector. Then\n",
    "# create the weighted sum of those vectors. Next, modify the\n",
    "# code to compute the weighted mixture of four 5-D vectors.\n",
    "# What is the relationship between the dimensionality of the to\u0002be-summed vectors, the number of vectors to sum, and the\n",
    "# dimensionality of the coefficients vector"
   ]
  },
  {
   "cell_type": "code",
   "execution_count": 40,
   "id": "79a14716",
   "metadata": {},
   "outputs": [
    {
     "name": "stdout",
     "output_type": "stream",
     "text": [
      "[  0 -15 -13   8  10]\n"
     ]
    }
   ],
   "source": [
    "# sollution task 1 \n",
    "v1=np.array([2,4,1,1,8])\n",
    "v2=np.array([4,3,0,9,6])\n",
    "v3=np.array([5,10,6,9,0])\n",
    "# the scalers of the linear weighted combination of three vectors\n",
    "w = [-1, 3, -2]\n",
    "result = v1 * w[0] + v2 * w[1] + v3 * w[2]\n",
    "print(result)\n"
   ]
  },
  {
   "cell_type": "code",
   "execution_count": 41,
   "id": "f4f13774",
   "metadata": {},
   "outputs": [],
   "source": [
    "# 2. Develop a method to use the dot product to compute the aver\u0002age of a set of numbers in a vector."
   ]
  },
  {
   "cell_type": "code",
   "execution_count": 44,
   "id": "a33e6f50",
   "metadata": {},
   "outputs": [
    {
     "name": "stdout",
     "output_type": "stream",
     "text": [
      "6.6\n"
     ]
    }
   ],
   "source": [
    "v =np.array([4, 10, 11, 2,6])\n",
    "one= np.ones(len(v))\n",
    "ave = np.dot(v,one) / len(v)\n",
    "print(ave)"
   ]
  },
  {
   "cell_type": "code",
   "execution_count": 45,
   "id": "d747eca5",
   "metadata": {},
   "outputs": [],
   "source": [
    "# 3. What if some numbers were more important than other num\u0002bers?\n",
    "#   Modify your answer to the previous question to devise\n",
    "#   a method to use the dot product to compute a weighted mean of a set of numbers."
   ]
  },
  {
   "cell_type": "code",
   "execution_count": 47,
   "id": "5d0df2b3",
   "metadata": {},
   "outputs": [
    {
     "name": "stdout",
     "output_type": "stream",
     "text": [
      "0.472759098438313\n"
     ]
    }
   ],
   "source": [
    "v = np.array([4,5,4,5,9])\n",
    "w = np.random.rand(len(v))\n",
    "weigh_mean =np.dot(v,w/sum(v))\n",
    "print(weigh_mean)"
   ]
  },
  {
   "cell_type": "code",
   "execution_count": null,
   "id": "435752c6",
   "metadata": {},
   "outputs": [],
   "source": []
  }
 ],
 "metadata": {
  "kernelspec": {
   "display_name": "Python 3 (ipykernel)",
   "language": "python",
   "name": "python3"
  },
  "language_info": {
   "codemirror_mode": {
    "name": "ipython",
    "version": 3
   },
   "file_extension": ".py",
   "mimetype": "text/x-python",
   "name": "python",
   "nbconvert_exporter": "python",
   "pygments_lexer": "ipython3",
   "version": "3.9.7"
  }
 },
 "nbformat": 4,
 "nbformat_minor": 5
}
